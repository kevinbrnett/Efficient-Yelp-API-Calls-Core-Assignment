{
 "cells": [
  {
   "cell_type": "markdown",
   "id": "ae2dd632",
   "metadata": {},
   "source": [
    "# Efficient Yelp API Calls\n",
    "- Kevin Barnett\n",
    "- 05/05/23"
   ]
  },
  {
   "cell_type": "code",
   "execution_count": 1,
   "id": "da756ac5",
   "metadata": {},
   "outputs": [],
   "source": [
    "# Imports\n",
    "import numpy as np\n",
    "import pandas as pd\n",
    "import matplotlib.pyplot as plt\n",
    "import seaborn as sns\n",
    "import os, json, math, time\n",
    "from yelpapi import YelpAPI\n",
    "from tqdm import tqdm_notebook"
   ]
  },
  {
   "cell_type": "code",
   "execution_count": 2,
   "id": "ae3319a7",
   "metadata": {},
   "outputs": [
    {
     "data": {
      "text/plain": [
       "dict_keys(['client-id', 'api-key'])"
      ]
     },
     "execution_count": 2,
     "metadata": {},
     "output_type": "execute_result"
    }
   ],
   "source": [
    "# Import API keys\n",
    "with open('/Users/hamma/.secret/yelp_api.json') as f: \n",
    "    login = json.load(f)\n",
    "login.keys()"
   ]
  },
  {
   "cell_type": "code",
   "execution_count": 3,
   "id": "8c705654",
   "metadata": {},
   "outputs": [
    {
     "data": {
      "text/plain": [
       "<yelpapi.yelpapi.YelpAPI at 0x1d1bec08f40>"
      ]
     },
     "execution_count": 3,
     "metadata": {},
     "output_type": "execute_result"
    }
   ],
   "source": [
    "# Instantiate Yelp API variable\n",
    "from yelpapi import YelpAPI\n",
    "yelp_api = YelpAPI(login['api-key'], timeout_s=5.0)\n",
    "yelp_api"
   ]
  },
  {
   "cell_type": "code",
   "execution_count": 4,
   "id": "8d43f2ba",
   "metadata": {},
   "outputs": [
    {
     "name": "stdout",
     "output_type": "stream",
     "text": [
      "<class 'dict'>\n"
     ]
    },
    {
     "data": {
      "text/plain": [
       "dict_keys(['businesses', 'total', 'region'])"
      ]
     },
     "execution_count": 4,
     "metadata": {},
     "output_type": "execute_result"
    }
   ],
   "source": [
    "# Quick Test Query\n",
    "results = yelp_api.search_query(location='Baltimore, MD',\n",
    "                                       term='Crab Cake')\n",
    "print(type(results))\n",
    "results.keys()\n"
   ]
  },
  {
   "cell_type": "code",
   "execution_count": 5,
   "id": "b190eb4f",
   "metadata": {},
   "outputs": [],
   "source": [
    "# Set variables for parameters\n",
    "location = 'Denver, CO'\n",
    "term = 'Taco'"
   ]
  },
  {
   "cell_type": "code",
   "execution_count": 6,
   "id": "b620d25c",
   "metadata": {},
   "outputs": [
    {
     "data": {
      "text/plain": [
       "'results_in_progress_Denver_taco'"
      ]
     },
     "execution_count": 6,
     "metadata": {},
     "output_type": "execute_result"
    }
   ],
   "source": [
    "# Create empty json file for results in progress\n",
    "json_file = 'results_in_progress_Denver_taco'\n",
    "json_file"
   ]
  },
  {
   "cell_type": "code",
   "execution_count": 7,
   "id": "9d457ed6",
   "metadata": {},
   "outputs": [
    {
     "name": "stdout",
     "output_type": "stream",
     "text": [
      "results_in_progress_Denver_taco does not exist. Saving to empty list\n"
     ]
    }
   ],
   "source": [
    "# Check if file exists and create elif statement if it does not exist\n",
    "file_exist = os.path.isfile(json_file)\n",
    "\n",
    "# If file does not exist\n",
    "if file_exist == False:\n",
    "    \n",
    "    # Create new folder\n",
    "    folder = os.path.dirname(json_file)\n",
    "    \n",
    "    # If json_file included a folder\n",
    "    if len(folder) > 0:\n",
    "        os.makedirs(folder, exist_ok=False)\n",
    "    \n",
    "    # Inform user and save to empty list\n",
    "    print(f'{json_file} does not exist. Saving to empty list')\n",
    "    \n",
    "    # Save to empty list\n",
    "    with open(json_file, 'w') as f:\n",
    "          json.dump([], f)\n",
    "\n",
    "# If it exists inform the user\n",
    "else:\n",
    "    print('{json_file} already exists')"
   ]
  },
  {
   "cell_type": "code",
   "execution_count": 8,
   "id": "62527652",
   "metadata": {},
   "outputs": [
    {
     "name": "stdout",
     "output_type": "stream",
     "text": [
      "0 previous results found\n"
     ]
    }
   ],
   "source": [
    "# Load previous results and use len of results for offset\n",
    "with open(json_file, 'r') as f:\n",
    "    previous_results = json.load(f)\n",
    "\n",
    "# Set offset based on previous results\n",
    "n_results = len(previous_results)\n",
    "print(f'{n_results} previous results found')"
   ]
  },
  {
   "cell_type": "code",
   "execution_count": 9,
   "id": "ea9b81e0",
   "metadata": {},
   "outputs": [
    {
     "data": {
      "text/plain": [
       "dict_keys(['businesses', 'total', 'region'])"
      ]
     },
     "execution_count": 9,
     "metadata": {},
     "output_type": "execute_result"
    }
   ],
   "source": [
    "# Use search.query method to perform API call\n",
    "results = yelp_api.search_query(location=location, term=term, offset=n_results)\n",
    "results.keys()"
   ]
  },
  {
   "cell_type": "code",
   "execution_count": 10,
   "id": "461df50f",
   "metadata": {},
   "outputs": [
    {
     "data": {
      "text/plain": [
       "2700"
      ]
     },
     "execution_count": 10,
     "metadata": {},
     "output_type": "execute_result"
    }
   ],
   "source": [
    "# Save total results to variable\n",
    "total_results = results['total']\n",
    "total_results"
   ]
  },
  {
   "cell_type": "code",
   "execution_count": 11,
   "id": "26925191",
   "metadata": {},
   "outputs": [
    {
     "data": {
      "text/plain": [
       "20"
      ]
     },
     "execution_count": 11,
     "metadata": {},
     "output_type": "execute_result"
    }
   ],
   "source": [
    "# Save results per page to variable\n",
    "results_per_page = len(results['businesses'])\n",
    "results_per_page"
   ]
  },
  {
   "cell_type": "code",
   "execution_count": 12,
   "id": "15db6f76",
   "metadata": {},
   "outputs": [
    {
     "data": {
      "text/plain": [
       "135"
      ]
     },
     "execution_count": 12,
     "metadata": {},
     "output_type": "execute_result"
    }
   ],
   "source": [
    "# Round up total number of results per pages\n",
    "n_pages = math.ceil((results['total'] - n_results) / results_per_page)\n",
    "n_pages"
   ]
  },
  {
   "cell_type": "code",
   "execution_count": 13,
   "id": "bce1e2b7",
   "metadata": {},
   "outputs": [],
   "source": [
    "# Create function to create json files\n",
    "def create_json_file(json_file, delete_if_exists=False):\n",
    "    \n",
    "    # Check if file exists\n",
    "    file_exists = os.path.isfile(json_file)\n",
    "    \n",
    "    # If it does exist\n",
    "    if file_exists == True:\n",
    "        \n",
    "        # Check if user wants to delete if exists\n",
    "        if delete_if_exists==True:\n",
    "            print(f'[!] {json_file} already exists. Deleting previous file')\n",
    "        \n",
    "            # Delete file and confirm it no longer exists\n",
    "            os.remove(json_file)\n",
    "            print(f'[i] {json_file} already exists')\n",
    "            \n",
    "            # Recursive call to function after old file delete\n",
    "            create_json_file(json_file, delete_if_exists=False)\n",
    "        else:\n",
    "            print(f'[i] {json_file} already exists')\n",
    "    \n",
    "    # If it does not exist\n",
    "    else:\n",
    "        # Inform user and save empty list\n",
    "        print(f'[i] {json_file} not found. Saving empty list to new file')\n",
    "    \n",
    "        # Create any needed folders\n",
    "        folder = os.path.dirname(json_file)\n",
    "    \n",
    "        # If included a folder\n",
    "        if len(folder) > 0:\n",
    "          \n",
    "            # Create folder\n",
    "            os.makdirs(folder, exist_ok=True)\n",
    "    \n",
    "        # Save empty list to start the json file\n",
    "        with open(json_file, 'w') as f:\n",
    "            json.dump([], f)"
   ]
  },
  {
   "cell_type": "code",
   "execution_count": 14,
   "id": "2484ad66",
   "metadata": {},
   "outputs": [
    {
     "name": "stdout",
     "output_type": "stream",
     "text": [
      "[i] results_in_progress_Denver_taco already exists\n"
     ]
    }
   ],
   "source": [
    "# Create new json_file using function\n",
    "create_json_file(json_file)"
   ]
  },
  {
   "cell_type": "code",
   "execution_count": 15,
   "id": "f809eebe",
   "metadata": {
    "scrolled": false
   },
   "outputs": [
    {
     "name": "stdout",
     "output_type": "stream",
     "text": [
      "0 previous results found\n"
     ]
    },
    {
     "data": {
      "text/plain": [
       "135"
      ]
     },
     "execution_count": 15,
     "metadata": {},
     "output_type": "execute_result"
    }
   ],
   "source": [
    "# Lod previous results and use len for offset\n",
    "with open(json_file, 'r') as f:\n",
    "    previous_results = json.load(f)\n",
    "    \n",
    "# Set offset based on previous results\n",
    "n_results = len(previous_results)\n",
    "print(f'{n_results} previous results found')\n",
    "      \n",
    "# Use search query method to perfom API call\n",
    "results = yelp_api.search_query(location=location, term=term, offset=n_results)\n",
    "      \n",
    "# How many results total?\n",
    "total_results = results['total']\n",
    "\n",
    "# How many did we get details for?\n",
    "results_per_page = len(results['businesses'])\n",
    "      \n",
    "# Round up total number of pages of results\n",
    "n_pages = math.ceil((total_results - n_results) / results_per_page)\n",
    "n_pages"
   ]
  },
  {
   "cell_type": "code",
   "execution_count": 16,
   "id": "d49825c2",
   "metadata": {},
   "outputs": [
    {
     "name": "stderr",
     "output_type": "stream",
     "text": [
      "C:\\Users\\hamma\\AppData\\Local\\Temp\\ipykernel_6660\\3974074826.py:2: TqdmDeprecationWarning: This function will be removed in tqdm==5.0.0\n",
      "Please use `tqdm.notebook.tqdm` instead of `tqdm.tqdm_notebook`\n",
      "  for i in tqdm_notebook(range(1,n_pages+1)):\n"
     ]
    },
    {
     "data": {
      "application/vnd.jupyter.widget-view+json": {
       "model_id": "6a9f7939dcd04251860fd9dbc542f570",
       "version_major": 2,
       "version_minor": 0
      },
      "text/plain": [
       "  0%|          | 0/135 [00:00<?, ?it/s]"
      ]
     },
     "metadata": {},
     "output_type": "display_data"
    },
    {
     "name": "stdout",
     "output_type": "stream",
     "text": [
      "Exceeded 1000 API calls, stopping looping\n"
     ]
    }
   ],
   "source": [
    "# For loop for API calls\n",
    "for i in tqdm_notebook(range(1,n_pages+1)):\n",
    "    \n",
    "    # Read in results progress file and check length\n",
    "    with open(json_file, 'r') as f:\n",
    "        previous_results = json.load(f)\n",
    "        \n",
    "    # Save number of results to use as offset\n",
    "    n_results = len(previous_results)\n",
    "    \n",
    "    if (n_results + results_per_page) > 1000:\n",
    "        print('Exceeded 1000 API calls, stopping looping')\n",
    "        break\n",
    "    \n",
    "    # Use n_results as the offset\n",
    "    results = yelp_api.search_query(location=location, term=term, \n",
    "                                    offset= n_results)\n",
    "    \n",
    "    # Append new results and save file\n",
    "    previous_results.extend(results['businesses'])\n",
    "    \n",
    "    with open(json_file, 'w') as f:\n",
    "        json.dump(previous_results, f)\n",
    "        \n",
    "    # Add 200ms pause\n",
    "    time.sleep(0.2)"
   ]
  },
  {
   "cell_type": "code",
   "execution_count": 17,
   "id": "d5f3a302",
   "metadata": {},
   "outputs": [
    {
     "data": {
      "text/html": [
       "<div>\n",
       "<style scoped>\n",
       "    .dataframe tbody tr th:only-of-type {\n",
       "        vertical-align: middle;\n",
       "    }\n",
       "\n",
       "    .dataframe tbody tr th {\n",
       "        vertical-align: top;\n",
       "    }\n",
       "\n",
       "    .dataframe thead th {\n",
       "        text-align: right;\n",
       "    }\n",
       "</style>\n",
       "<table border=\"1\" class=\"dataframe\">\n",
       "  <thead>\n",
       "    <tr style=\"text-align: right;\">\n",
       "      <th></th>\n",
       "      <th>id</th>\n",
       "      <th>alias</th>\n",
       "      <th>name</th>\n",
       "      <th>image_url</th>\n",
       "      <th>is_closed</th>\n",
       "      <th>url</th>\n",
       "      <th>review_count</th>\n",
       "      <th>categories</th>\n",
       "      <th>rating</th>\n",
       "      <th>coordinates</th>\n",
       "      <th>transactions</th>\n",
       "      <th>location</th>\n",
       "      <th>phone</th>\n",
       "      <th>display_phone</th>\n",
       "      <th>distance</th>\n",
       "      <th>price</th>\n",
       "    </tr>\n",
       "  </thead>\n",
       "  <tbody>\n",
       "    <tr>\n",
       "      <th>0</th>\n",
       "      <td>5-Y6ioHcfRy-eCBZtU6rHw</td>\n",
       "      <td>venalonzos-centennial-2</td>\n",
       "      <td>Venalonzo's</td>\n",
       "      <td>https://s3-media3.fl.yelpcdn.com/bphoto/pZaizS...</td>\n",
       "      <td>False</td>\n",
       "      <td>https://www.yelp.com/biz/venalonzos-centennial...</td>\n",
       "      <td>159</td>\n",
       "      <td>[{'alias': 'tacos', 'title': 'Tacos'}, {'alias...</td>\n",
       "      <td>5.0</td>\n",
       "      <td>{'latitude': 39.5920055, 'longitude': -104.886...</td>\n",
       "      <td>[]</td>\n",
       "      <td>{'address1': '6830 S Yosemite St', 'address2':...</td>\n",
       "      <td>+17209236926</td>\n",
       "      <td>(720) 923-6926</td>\n",
       "      <td>19196.011394</td>\n",
       "      <td>NaN</td>\n",
       "    </tr>\n",
       "    <tr>\n",
       "      <th>1</th>\n",
       "      <td>MtlvL-SAU6_1gDiRY6MAgw</td>\n",
       "      <td>la-calle-taqueria-y-carnitas-denver</td>\n",
       "      <td>La Calle Taqueria Y Carnitas</td>\n",
       "      <td>https://s3-media4.fl.yelpcdn.com/bphoto/-djBaq...</td>\n",
       "      <td>False</td>\n",
       "      <td>https://www.yelp.com/biz/la-calle-taqueria-y-c...</td>\n",
       "      <td>363</td>\n",
       "      <td>[{'alias': 'mexican', 'title': 'Mexican'}]</td>\n",
       "      <td>4.5</td>\n",
       "      <td>{'latitude': 39.7114611, 'longitude': -105.010...</td>\n",
       "      <td>[pickup, delivery]</td>\n",
       "      <td>{'address1': '1565 W Alameda Ave', 'address2':...</td>\n",
       "      <td>+17205836586</td>\n",
       "      <td>(720) 583-6586</td>\n",
       "      <td>14378.626237</td>\n",
       "      <td>$$</td>\n",
       "    </tr>\n",
       "    <tr>\n",
       "      <th>2</th>\n",
       "      <td>ShUt408WjgG1lDpyqQUmhQ</td>\n",
       "      <td>romo-s-street-tacos-aurora</td>\n",
       "      <td>Romo’s Street Tacos</td>\n",
       "      <td>https://s3-media1.fl.yelpcdn.com/bphoto/mHBVh8...</td>\n",
       "      <td>False</td>\n",
       "      <td>https://www.yelp.com/biz/romo-s-street-tacos-a...</td>\n",
       "      <td>85</td>\n",
       "      <td>[{'alias': 'breakfast_brunch', 'title': 'Break...</td>\n",
       "      <td>4.0</td>\n",
       "      <td>{'latitude': 39.617498000784, 'longitude': -10...</td>\n",
       "      <td>[pickup, delivery]</td>\n",
       "      <td>{'address1': '5350 S Parker Rd', 'address2': '...</td>\n",
       "      <td>+17202428478</td>\n",
       "      <td>(720) 242-8478</td>\n",
       "      <td>16559.096105</td>\n",
       "      <td>$$</td>\n",
       "    </tr>\n",
       "    <tr>\n",
       "      <th>3</th>\n",
       "      <td>OIQh2YtOXjlKfWPx-t8iFA</td>\n",
       "      <td>la-loteria-taqueria-denver</td>\n",
       "      <td>La Loteria Taqueria</td>\n",
       "      <td>https://s3-media1.fl.yelpcdn.com/bphoto/CeiN-B...</td>\n",
       "      <td>False</td>\n",
       "      <td>https://www.yelp.com/biz/la-loteria-taqueria-d...</td>\n",
       "      <td>228</td>\n",
       "      <td>[{'alias': 'mexican', 'title': 'Mexican'}]</td>\n",
       "      <td>4.5</td>\n",
       "      <td>{'latitude': 39.7158, 'longitude': -104.9873}</td>\n",
       "      <td>[pickup, delivery]</td>\n",
       "      <td>{'address1': '42 S Broadway', 'address2': '', ...</td>\n",
       "      <td>+17203899055</td>\n",
       "      <td>(720) 389-9055</td>\n",
       "      <td>12395.345944</td>\n",
       "      <td>$$</td>\n",
       "    </tr>\n",
       "    <tr>\n",
       "      <th>4</th>\n",
       "      <td>WYi75GrJj6letALupO1X-g</td>\n",
       "      <td>tacos-selene-aurora-2</td>\n",
       "      <td>Tacos Selene</td>\n",
       "      <td>https://s3-media3.fl.yelpcdn.com/bphoto/sK3Q2x...</td>\n",
       "      <td>False</td>\n",
       "      <td>https://www.yelp.com/biz/tacos-selene-aurora-2...</td>\n",
       "      <td>486</td>\n",
       "      <td>[{'alias': 'mexican', 'title': 'Mexican'}]</td>\n",
       "      <td>4.5</td>\n",
       "      <td>{'latitude': 39.72585, 'longitude': -104.80971}</td>\n",
       "      <td>[delivery]</td>\n",
       "      <td>{'address1': '15343 E 6th Ave', 'address2': 'S...</td>\n",
       "      <td>+13033437879</td>\n",
       "      <td>(303) 343-7879</td>\n",
       "      <td>5775.359603</td>\n",
       "      <td>$</td>\n",
       "    </tr>\n",
       "  </tbody>\n",
       "</table>\n",
       "</div>"
      ],
      "text/plain": [
       "                       id                                alias  \\\n",
       "0  5-Y6ioHcfRy-eCBZtU6rHw              venalonzos-centennial-2   \n",
       "1  MtlvL-SAU6_1gDiRY6MAgw  la-calle-taqueria-y-carnitas-denver   \n",
       "2  ShUt408WjgG1lDpyqQUmhQ           romo-s-street-tacos-aurora   \n",
       "3  OIQh2YtOXjlKfWPx-t8iFA           la-loteria-taqueria-denver   \n",
       "4  WYi75GrJj6letALupO1X-g                tacos-selene-aurora-2   \n",
       "\n",
       "                           name  \\\n",
       "0                   Venalonzo's   \n",
       "1  La Calle Taqueria Y Carnitas   \n",
       "2           Romo’s Street Tacos   \n",
       "3           La Loteria Taqueria   \n",
       "4                  Tacos Selene   \n",
       "\n",
       "                                           image_url  is_closed  \\\n",
       "0  https://s3-media3.fl.yelpcdn.com/bphoto/pZaizS...      False   \n",
       "1  https://s3-media4.fl.yelpcdn.com/bphoto/-djBaq...      False   \n",
       "2  https://s3-media1.fl.yelpcdn.com/bphoto/mHBVh8...      False   \n",
       "3  https://s3-media1.fl.yelpcdn.com/bphoto/CeiN-B...      False   \n",
       "4  https://s3-media3.fl.yelpcdn.com/bphoto/sK3Q2x...      False   \n",
       "\n",
       "                                                 url  review_count  \\\n",
       "0  https://www.yelp.com/biz/venalonzos-centennial...           159   \n",
       "1  https://www.yelp.com/biz/la-calle-taqueria-y-c...           363   \n",
       "2  https://www.yelp.com/biz/romo-s-street-tacos-a...            85   \n",
       "3  https://www.yelp.com/biz/la-loteria-taqueria-d...           228   \n",
       "4  https://www.yelp.com/biz/tacos-selene-aurora-2...           486   \n",
       "\n",
       "                                          categories  rating  \\\n",
       "0  [{'alias': 'tacos', 'title': 'Tacos'}, {'alias...     5.0   \n",
       "1         [{'alias': 'mexican', 'title': 'Mexican'}]     4.5   \n",
       "2  [{'alias': 'breakfast_brunch', 'title': 'Break...     4.0   \n",
       "3         [{'alias': 'mexican', 'title': 'Mexican'}]     4.5   \n",
       "4         [{'alias': 'mexican', 'title': 'Mexican'}]     4.5   \n",
       "\n",
       "                                         coordinates        transactions  \\\n",
       "0  {'latitude': 39.5920055, 'longitude': -104.886...                  []   \n",
       "1  {'latitude': 39.7114611, 'longitude': -105.010...  [pickup, delivery]   \n",
       "2  {'latitude': 39.617498000784, 'longitude': -10...  [pickup, delivery]   \n",
       "3      {'latitude': 39.7158, 'longitude': -104.9873}  [pickup, delivery]   \n",
       "4    {'latitude': 39.72585, 'longitude': -104.80971}          [delivery]   \n",
       "\n",
       "                                            location         phone  \\\n",
       "0  {'address1': '6830 S Yosemite St', 'address2':...  +17209236926   \n",
       "1  {'address1': '1565 W Alameda Ave', 'address2':...  +17205836586   \n",
       "2  {'address1': '5350 S Parker Rd', 'address2': '...  +17202428478   \n",
       "3  {'address1': '42 S Broadway', 'address2': '', ...  +17203899055   \n",
       "4  {'address1': '15343 E 6th Ave', 'address2': 'S...  +13033437879   \n",
       "\n",
       "    display_phone      distance price  \n",
       "0  (720) 923-6926  19196.011394   NaN  \n",
       "1  (720) 583-6586  14378.626237    $$  \n",
       "2  (720) 242-8478  16559.096105    $$  \n",
       "3  (720) 389-9055  12395.345944    $$  \n",
       "4  (303) 343-7879   5775.359603     $  "
      ]
     },
     "metadata": {},
     "output_type": "display_data"
    },
    {
     "data": {
      "text/html": [
       "<div>\n",
       "<style scoped>\n",
       "    .dataframe tbody tr th:only-of-type {\n",
       "        vertical-align: middle;\n",
       "    }\n",
       "\n",
       "    .dataframe tbody tr th {\n",
       "        vertical-align: top;\n",
       "    }\n",
       "\n",
       "    .dataframe thead th {\n",
       "        text-align: right;\n",
       "    }\n",
       "</style>\n",
       "<table border=\"1\" class=\"dataframe\">\n",
       "  <thead>\n",
       "    <tr style=\"text-align: right;\">\n",
       "      <th></th>\n",
       "      <th>id</th>\n",
       "      <th>alias</th>\n",
       "      <th>name</th>\n",
       "      <th>image_url</th>\n",
       "      <th>is_closed</th>\n",
       "      <th>url</th>\n",
       "      <th>review_count</th>\n",
       "      <th>categories</th>\n",
       "      <th>rating</th>\n",
       "      <th>coordinates</th>\n",
       "      <th>transactions</th>\n",
       "      <th>location</th>\n",
       "      <th>phone</th>\n",
       "      <th>display_phone</th>\n",
       "      <th>distance</th>\n",
       "      <th>price</th>\n",
       "    </tr>\n",
       "  </thead>\n",
       "  <tbody>\n",
       "    <tr>\n",
       "      <th>995</th>\n",
       "      <td>WgT_f3tG0VvzX78WotZmFg</td>\n",
       "      <td>guadalajara-castle-rock</td>\n",
       "      <td>Guadalajara</td>\n",
       "      <td>https://s3-media1.fl.yelpcdn.com/bphoto/nY6Xd_...</td>\n",
       "      <td>False</td>\n",
       "      <td>https://www.yelp.com/biz/guadalajara-castle-ro...</td>\n",
       "      <td>255</td>\n",
       "      <td>[{'alias': 'mexican', 'title': 'Mexican'}]</td>\n",
       "      <td>4.0</td>\n",
       "      <td>{'latitude': 39.37961, 'longitude': -104.86395}</td>\n",
       "      <td>[delivery, pickup]</td>\n",
       "      <td>{'address1': '150 Wolfensberger Rd', 'address2...</td>\n",
       "      <td>+13036606299</td>\n",
       "      <td>(303) 660-6299</td>\n",
       "      <td>42661.479267</td>\n",
       "      <td>$$</td>\n",
       "    </tr>\n",
       "    <tr>\n",
       "      <th>996</th>\n",
       "      <td>gcKUJJ1wo37J88OZ9hqFMQ</td>\n",
       "      <td>costa-vida-aurora-3</td>\n",
       "      <td>Costa Vida</td>\n",
       "      <td>https://s3-media2.fl.yelpcdn.com/bphoto/db-rJE...</td>\n",
       "      <td>False</td>\n",
       "      <td>https://www.yelp.com/biz/costa-vida-aurora-3?a...</td>\n",
       "      <td>107</td>\n",
       "      <td>[{'alias': 'mexican', 'title': 'Mexican'}, {'a...</td>\n",
       "      <td>3.0</td>\n",
       "      <td>{'latitude': 39.599023, 'longitude': -104.710306}</td>\n",
       "      <td>[delivery, pickup]</td>\n",
       "      <td>{'address1': '23870 E Smoky Hill Rd', 'address...</td>\n",
       "      <td>+13032846085</td>\n",
       "      <td>(303) 284-6085</td>\n",
       "      <td>22145.865646</td>\n",
       "      <td>$</td>\n",
       "    </tr>\n",
       "    <tr>\n",
       "      <th>997</th>\n",
       "      <td>ZJs3MCm2QcIAsLApQYQ6Zw</td>\n",
       "      <td>el-parral-greenwood-village-3</td>\n",
       "      <td>El Parral</td>\n",
       "      <td>https://s3-media2.fl.yelpcdn.com/bphoto/2iDS8t...</td>\n",
       "      <td>False</td>\n",
       "      <td>https://www.yelp.com/biz/el-parral-greenwood-v...</td>\n",
       "      <td>96</td>\n",
       "      <td>[{'alias': 'mexican', 'title': 'Mexican'}]</td>\n",
       "      <td>3.5</td>\n",
       "      <td>{'latitude': 39.596306, 'longitude': -104.881202}</td>\n",
       "      <td>[delivery]</td>\n",
       "      <td>{'address1': '9261 E Arapahoe Rd', 'address2':...</td>\n",
       "      <td>+13036499140</td>\n",
       "      <td>(303) 649-9140</td>\n",
       "      <td>18711.642884</td>\n",
       "      <td>$</td>\n",
       "    </tr>\n",
       "    <tr>\n",
       "      <th>998</th>\n",
       "      <td>kMiIUrWaSnqKpFdKPJHzMg</td>\n",
       "      <td>marianas-family-restaurant-wiggins</td>\n",
       "      <td>Marianas Family Restaurant</td>\n",
       "      <td>https://s3-media3.fl.yelpcdn.com/bphoto/2Zs-XJ...</td>\n",
       "      <td>False</td>\n",
       "      <td>https://www.yelp.com/biz/marianas-family-resta...</td>\n",
       "      <td>10</td>\n",
       "      <td>[{'alias': 'mexican', 'title': 'Mexican'}, {'a...</td>\n",
       "      <td>4.5</td>\n",
       "      <td>{'latitude': 40.2325747940952, 'longitude': -1...</td>\n",
       "      <td>[]</td>\n",
       "      <td>{'address1': '612 Central Ave', 'address2': ''...</td>\n",
       "      <td>+19704837278</td>\n",
       "      <td>(970) 483-7278</td>\n",
       "      <td>84231.498881</td>\n",
       "      <td>NaN</td>\n",
       "    </tr>\n",
       "    <tr>\n",
       "      <th>999</th>\n",
       "      <td>oTXzVNMV7RtupXjmIRegJw</td>\n",
       "      <td>picas-taqueria-boulder</td>\n",
       "      <td>Pica's Taqueria</td>\n",
       "      <td>https://s3-media3.fl.yelpcdn.com/bphoto/qr8Qtb...</td>\n",
       "      <td>False</td>\n",
       "      <td>https://www.yelp.com/biz/picas-taqueria-boulde...</td>\n",
       "      <td>198</td>\n",
       "      <td>[{'alias': 'mexican', 'title': 'Mexican'}]</td>\n",
       "      <td>3.5</td>\n",
       "      <td>{'latitude': 40.0138322613358, 'longitude': -1...</td>\n",
       "      <td>[delivery, pickup]</td>\n",
       "      <td>{'address1': '5360 Arapahoe Ave', 'address2': ...</td>\n",
       "      <td>+13034442391</td>\n",
       "      <td>(303) 444-2391</td>\n",
       "      <td>42170.263826</td>\n",
       "      <td>$$</td>\n",
       "    </tr>\n",
       "  </tbody>\n",
       "</table>\n",
       "</div>"
      ],
      "text/plain": [
       "                         id                               alias  \\\n",
       "995  WgT_f3tG0VvzX78WotZmFg             guadalajara-castle-rock   \n",
       "996  gcKUJJ1wo37J88OZ9hqFMQ                 costa-vida-aurora-3   \n",
       "997  ZJs3MCm2QcIAsLApQYQ6Zw       el-parral-greenwood-village-3   \n",
       "998  kMiIUrWaSnqKpFdKPJHzMg  marianas-family-restaurant-wiggins   \n",
       "999  oTXzVNMV7RtupXjmIRegJw              picas-taqueria-boulder   \n",
       "\n",
       "                           name  \\\n",
       "995                 Guadalajara   \n",
       "996                  Costa Vida   \n",
       "997                   El Parral   \n",
       "998  Marianas Family Restaurant   \n",
       "999             Pica's Taqueria   \n",
       "\n",
       "                                             image_url  is_closed  \\\n",
       "995  https://s3-media1.fl.yelpcdn.com/bphoto/nY6Xd_...      False   \n",
       "996  https://s3-media2.fl.yelpcdn.com/bphoto/db-rJE...      False   \n",
       "997  https://s3-media2.fl.yelpcdn.com/bphoto/2iDS8t...      False   \n",
       "998  https://s3-media3.fl.yelpcdn.com/bphoto/2Zs-XJ...      False   \n",
       "999  https://s3-media3.fl.yelpcdn.com/bphoto/qr8Qtb...      False   \n",
       "\n",
       "                                                   url  review_count  \\\n",
       "995  https://www.yelp.com/biz/guadalajara-castle-ro...           255   \n",
       "996  https://www.yelp.com/biz/costa-vida-aurora-3?a...           107   \n",
       "997  https://www.yelp.com/biz/el-parral-greenwood-v...            96   \n",
       "998  https://www.yelp.com/biz/marianas-family-resta...            10   \n",
       "999  https://www.yelp.com/biz/picas-taqueria-boulde...           198   \n",
       "\n",
       "                                            categories  rating  \\\n",
       "995         [{'alias': 'mexican', 'title': 'Mexican'}]     4.0   \n",
       "996  [{'alias': 'mexican', 'title': 'Mexican'}, {'a...     3.0   \n",
       "997         [{'alias': 'mexican', 'title': 'Mexican'}]     3.5   \n",
       "998  [{'alias': 'mexican', 'title': 'Mexican'}, {'a...     4.5   \n",
       "999         [{'alias': 'mexican', 'title': 'Mexican'}]     3.5   \n",
       "\n",
       "                                           coordinates        transactions  \\\n",
       "995    {'latitude': 39.37961, 'longitude': -104.86395}  [delivery, pickup]   \n",
       "996  {'latitude': 39.599023, 'longitude': -104.710306}  [delivery, pickup]   \n",
       "997  {'latitude': 39.596306, 'longitude': -104.881202}          [delivery]   \n",
       "998  {'latitude': 40.2325747940952, 'longitude': -1...                  []   \n",
       "999  {'latitude': 40.0138322613358, 'longitude': -1...  [delivery, pickup]   \n",
       "\n",
       "                                              location         phone  \\\n",
       "995  {'address1': '150 Wolfensberger Rd', 'address2...  +13036606299   \n",
       "996  {'address1': '23870 E Smoky Hill Rd', 'address...  +13032846085   \n",
       "997  {'address1': '9261 E Arapahoe Rd', 'address2':...  +13036499140   \n",
       "998  {'address1': '612 Central Ave', 'address2': ''...  +19704837278   \n",
       "999  {'address1': '5360 Arapahoe Ave', 'address2': ...  +13034442391   \n",
       "\n",
       "      display_phone      distance price  \n",
       "995  (303) 660-6299  42661.479267    $$  \n",
       "996  (303) 284-6085  22145.865646     $  \n",
       "997  (303) 649-9140  18711.642884     $  \n",
       "998  (970) 483-7278  84231.498881   NaN  \n",
       "999  (303) 444-2391  42170.263826    $$  "
      ]
     },
     "metadata": {},
     "output_type": "display_data"
    }
   ],
   "source": [
    "# Load final results\n",
    "final_df = pd.read_json(json_file)\n",
    "display(final_df.head(), final_df.tail())"
   ]
  },
  {
   "cell_type": "code",
   "execution_count": 18,
   "id": "39b51ccb",
   "metadata": {},
   "outputs": [
    {
     "data": {
      "text/plain": [
       "0"
      ]
     },
     "execution_count": 18,
     "metadata": {},
     "output_type": "execute_result"
    }
   ],
   "source": [
    "# Check for duplicates\n",
    "final_df.duplicated(subset='id').sum()"
   ]
  },
  {
   "cell_type": "code",
   "execution_count": 19,
   "id": "d4576e04",
   "metadata": {},
   "outputs": [
    {
     "data": {
      "text/plain": [
       "0"
      ]
     },
     "execution_count": 19,
     "metadata": {},
     "output_type": "execute_result"
    }
   ],
   "source": [
    "# Drop duplicates\n",
    "final_df = final_df.drop_duplicates(subset='id')\n",
    "final_df.duplicated(subset='id').sum()"
   ]
  },
  {
   "cell_type": "code",
   "execution_count": 20,
   "id": "ee7ed26b",
   "metadata": {},
   "outputs": [],
   "source": [
    "# Save final_df to csv file\n",
    "final_df.to_csv('final_results_Denver_taco.csv.gz', compression ='gzip',\n",
    "               index=False)"
   ]
  },
  {
   "cell_type": "code",
   "execution_count": null,
   "id": "a258755c",
   "metadata": {},
   "outputs": [],
   "source": []
  }
 ],
 "metadata": {
  "kernelspec": {
   "display_name": "Python (dojo-env)",
   "language": "python",
   "name": "dojo-env"
  },
  "language_info": {
   "codemirror_mode": {
    "name": "ipython",
    "version": 3
   },
   "file_extension": ".py",
   "mimetype": "text/x-python",
   "name": "python",
   "nbconvert_exporter": "python",
   "pygments_lexer": "ipython3",
   "version": "3.9.15"
  },
  "toc": {
   "base_numbering": 1,
   "nav_menu": {},
   "number_sections": false,
   "sideBar": true,
   "skip_h1_title": false,
   "title_cell": "Table of Contents",
   "title_sidebar": "Contents",
   "toc_cell": false,
   "toc_position": {},
   "toc_section_display": true,
   "toc_window_display": false
  }
 },
 "nbformat": 4,
 "nbformat_minor": 5
}
